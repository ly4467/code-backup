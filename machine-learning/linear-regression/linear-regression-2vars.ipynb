{
 "cells": [
  {
   "cell_type": "markdown",
   "id": "f3917a38",
   "metadata": {},
   "source": [
    "在写算法代码时候一定要注意精度损失！如果无法收敛的话很可能是数据类型错误！\n",
    "    e.g. theta = np.array([0]*x.shape[1]) ----------> theta = np.array([0]*x.shape[1],dtype=float)\n",
    "         #这个代码错在将theta参数设置为int类型，后面会导致无法收敛"
   ]
  },
  {
   "cell_type": "code",
   "execution_count": 1,
   "id": "3642aa04",
   "metadata": {},
   "outputs": [],
   "source": [
    "import numpy as np"
   ]
  },
  {
   "cell_type": "code",
   "execution_count": 2,
   "id": "03e1a66e",
   "metadata": {},
   "outputs": [],
   "source": [
    "# 将文件中数据以数组形式导入python\n",
    "# 数组data第一列为所有点的x坐标，第二列为所有点的y坐标\n",
    "data = np.loadtxt(\"./ex1data1.txt\",delimiter=\",\")"
   ]
  },
  {
   "cell_type": "code",
   "execution_count": 3,
   "id": "773ddcec",
   "metadata": {},
   "outputs": [],
   "source": [
    "# 给每个点都插入x0 = 1特征值，广播后插入\n",
    "data = np.insert(data, 0, np.array([1]), axis=1)"
   ]
  },
  {
   "cell_type": "code",
   "execution_count": 4,
   "id": "86b33522",
   "metadata": {},
   "outputs": [],
   "source": [
    "# 将点的坐标信息存储在x,y中，注意y是1维数组\n",
    "x = data[:, :2]\n",
    "y = data[:, 2]\n",
    "# 初始化theta，一定记得设置为浮点类型，否则无法收敛\n",
    "theta = np.array([0]*(data.shape[1]-1), dtype=\"f8\")"
   ]
  },
  {
   "cell_type": "code",
   "execution_count": 5,
   "id": "b0bf9618",
   "metadata": {},
   "outputs": [],
   "source": [
    "# 计算损失函数的值\n",
    "def costfunc(x, y, theta):\n",
    "    # cost function\n",
    "    cost = (1/(2*len(y)))*np.sum(((np.dot(x,theta) - y))**2)\n",
    "    return cost"
   ]
  },
  {
   "cell_type": "code",
   "execution_count": 6,
   "id": "640a22ce",
   "metadata": {},
   "outputs": [],
   "source": [
    "# 进行梯度下降\n",
    "def gradientdescent(x, y, theta, alpha):\n",
    "\n",
    "    # 一定记得设置为浮点类型，否则无法收敛\n",
    "    theta_new = np.array([0]*x.shape[1],dtype=\"f8\")\n",
    "    loss = np.dot(x,theta) - y\n",
    "\n",
    "    # gradient descent, 同时赋值theta(j)\n",
    "    for j in range(x.shape[1]):\n",
    "        theta_new[j] = theta[j]-(alpha/len(y))*np.sum(loss*x[:, j])\n",
    "    return theta_new"
   ]
  },
  {
   "cell_type": "code",
   "execution_count": 7,
   "id": "18fe59be",
   "metadata": {},
   "outputs": [],
   "source": [
    "alpha = 0.01\n",
    "times = 1000"
   ]
  },
  {
   "cell_type": "code",
   "execution_count": 8,
   "id": "1895436d",
   "metadata": {},
   "outputs": [
    {
     "name": "stdout",
     "output_type": "stream",
     "text": [
      "[-3.24140214  1.1272942 ] 4.516096429262984\n"
     ]
    }
   ],
   "source": [
    "for _ in range(times):\n",
    "    cost = costfunc(x, y, theta)\n",
    "    theta = gradientdescent(x, y, theta, alpha)\n",
    "\n",
    "print(theta, cost)"
   ]
  }
 ],
 "metadata": {
  "kernelspec": {
   "display_name": "Python 3 (ipykernel)",
   "language": "python",
   "name": "python3"
  },
  "language_info": {
   "codemirror_mode": {
    "name": "ipython",
    "version": 3
   },
   "file_extension": ".py",
   "mimetype": "text/x-python",
   "name": "python",
   "nbconvert_exporter": "python",
   "pygments_lexer": "ipython3",
   "version": "3.9.13"
  }
 },
 "nbformat": 4,
 "nbformat_minor": 5
}
