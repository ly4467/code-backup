{
 "cells": [
  {
   "cell_type": "code",
   "execution_count": 1,
   "id": "110f38cd",
   "metadata": {},
   "outputs": [],
   "source": [
    "import numpy as np"
   ]
  },
  {
   "cell_type": "code",
   "execution_count": 2,
   "id": "8bd96a27",
   "metadata": {},
   "outputs": [],
   "source": [
    "# 保存结点信息的模板\n",
    "class Node:\n",
    "    def __init__(self, parent_node, left_node, right_node, dim):\n",
    "        self.parent_node = parent_node\n",
    "        self.left_node = left_node\n",
    "        self.right_node = right_node\n",
    "        self.dim = dim"
   ]
  },
  {
   "cell_type": "code",
   "execution_count": 3,
   "id": "d3a92c0c",
   "metadata": {},
   "outputs": [],
   "source": [
    "class KdTree:\n",
    "    def __init__(self, data):\n",
    "        self.root_node = self.createtree(data, 0)   # 默认从第一个特征开始排序分割\n",
    "        self.nearest_dis, self.nearest_node = np.inf, []    # 初始化距离跟最近结点\n",
    "\n",
    "    # 递归创建kd树\n",
    "    def createtree(self, data, dim):\n",
    "\n",
    "        # 判断下面是否还有子结点，没有的话返回空值\n",
    "        if len(data) == 0:\n",
    "            return None\n",
    "\n",
    "        # 将数据按照选定特征排序，花式索引\n",
    "        data_sorted = data[np.argsort(data[...,dim])]\n",
    "\n",
    "        # 找出中位数点的索引，如果偶数则选择右边(较大)的点\n",
    "        middle_index = len(data_sorted)//2\n",
    "\n",
    "        # 创建左右子节点和父节点，调用Node类来保存父节点坐标，包含的子节点，分类特征所有信息\n",
    "        left_node = self.createtree(data_sorted[:middle_index], (dim+1)%len(data[0]))\n",
    "        right_node = self.createtree(data_sorted[middle_index+1:], (dim+1)%len(data[0]))   # 注意取左不取右，这里取左下标要加1\n",
    "        parent_node = Node(data_sorted[middle_index], left_node, right_node, dim)\n",
    "\n",
    "        return parent_node\n",
    "\n",
    "    # 查找kd树上最近的结点\n",
    "    def nearest(self, target_node):\n",
    "\n",
    "        # 递归查找函数\n",
    "        def search(node):\n",
    "            if node != None:\n",
    "\n",
    "                # dis:当前结点跟目标点的二范数距离\n",
    "                dis = np.linalg.norm(target_node - node.parent_node)\n",
    "                # depth:当前深度的结点对应特征的值跟目标点的特征值的差，即目标点到切割面的直线距离\n",
    "                depth = target_node[node.dim] - node.parent_node[node.dim]\n",
    "\n",
    "                # 递归查找目标点所属分支，node为类，node.left_node可以调用左子节点\n",
    "                search(node.left_node if depth<0 else node.right_node)\n",
    "\n",
    "                # 判断距离是否小于最短距离，小于则更新最短距离为当前距离，最近点更新为当前结点\n",
    "                if dis < self.nearest_dis:\n",
    "                    self.nearest_dis, self.nearest_node = dis, node.parent_node\n",
    "\n",
    "                # 如果depth小于最短距离，说明另外一个子平面可能有距离更近的结点\n",
    "                elif np.abs(depth) < self.nearest_dis:\n",
    "                    # 要去另外一个子平面查找结点，所以depth判断条件和上面相反\n",
    "                    search(node.left_node if depth>0 else node.right_node)\n",
    "\n",
    "        node = self.root_node\n",
    "        search(node)\n",
    "        return self.nearest_dis, self.nearest_node"
   ]
  },
  {
   "cell_type": "code",
   "execution_count": 4,
   "id": "bb91df8b",
   "metadata": {},
   "outputs": [],
   "source": [
    "data = np.array([[2,3],[5,4],[9,6],[4,7],[8,1],[7,2]])"
   ]
  },
  {
   "cell_type": "code",
   "execution_count": 5,
   "id": "a31ae9e3",
   "metadata": {},
   "outputs": [],
   "source": [
    "kdtree = KdTree(data)\n",
    "nearest_dis, nearest_node = kdtree.nearest(np.array([0.1,-8]))"
   ]
  },
  {
   "cell_type": "code",
   "execution_count": 6,
   "id": "235e0776",
   "metadata": {},
   "outputs": [
    {
     "name": "stdout",
     "output_type": "stream",
     "text": [
      "nearest-distance: 11.16288493177279\n",
      "nearest-node: [2 3]\n"
     ]
    }
   ],
   "source": [
    "print(\"nearest-distance:\", nearest_dis)\n",
    "print(\"nearest-node:\", nearest_node)"
   ]
  }
 ],
 "metadata": {
  "kernelspec": {
   "display_name": "Python 3 (ipykernel)",
   "language": "python",
   "name": "python3"
  },
  "language_info": {
   "codemirror_mode": {
    "name": "ipython",
    "version": 3
   },
   "file_extension": ".py",
   "mimetype": "text/x-python",
   "name": "python",
   "nbconvert_exporter": "python",
   "pygments_lexer": "ipython3",
   "version": "3.9.13"
  }
 },
 "nbformat": 4,
 "nbformat_minor": 5
}
